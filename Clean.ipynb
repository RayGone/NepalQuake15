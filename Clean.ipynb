{
 "cells": [
  {
   "cell_type": "code",
   "execution_count": null,
   "metadata": {},
   "outputs": [],
   "source": [
    "import os\n",
    "import pandas as pd\n",
    "import re"
   ]
  },
  {
   "cell_type": "code",
   "execution_count": null,
   "metadata": {},
   "outputs": [],
   "source": [
    "target = \"RawNepQuake15\"\n",
    "file_list = [os.path.join(target,x) for x in os.listdir(target)]\n",
    "file_list.sort()\n",
    "file_list"
   ]
  },
  {
   "cell_type": "code",
   "execution_count": null,
   "metadata": {},
   "outputs": [],
   "source": [
    "#### CLEANING ##### remove @usernames and external-urls\n",
    "def cleanText(pdf):\n",
    "    pdf['Text'] = pdf.apply(lambda x: re.sub('@\\w+','',x['Text']).strip(),axis=1) # remove @usernames\n",
    "    pdf['Text'] = pdf.apply(lambda x: re.sub('#\\w+','',x['Text']).strip(),axis=1) # remove hash-tag\n",
    "    pdf['Text'] = pdf.apply(lambda x: re.sub('\\w+:\\/\\/[\\w.\\/]+',' ',x['Text']).strip(),axis=1)  # remove external urls\n",
    "    pdf['Text'] = pdf.apply(lambda x: re.sub('[a-zA-Z]+','',x['Text']).strip(),axis=1)  # remove english alphabets\n",
    "    # pdf['Text'] = pdf.apply(lambda x: re.sub('\\s+',' ',x['Text']).strip(),axis=1) # remove new line feeds and extra spaces\n",
    "    return pdf\n"
   ]
  },
  {
   "cell_type": "code",
   "execution_count": null,
   "metadata": {},
   "outputs": [],
   "source": [
    "agg = pd.DataFrame()"
   ]
  },
  {
   "cell_type": "code",
   "execution_count": null,
   "metadata": {},
   "outputs": [],
   "source": [
    "for file in file_list:\n",
    "    print(file)\n",
    "    pdf = pd.read_csv(file)\n",
    "    print('before',pdf.shape)\n",
    "    pdf = cleanText(pdf)\n",
    "    \n",
    "    pdf.index = range(pdf.shape[0])\n",
    "    \n",
    "    ### Checking for shortest string in the dataframe\n",
    "    lengths = pdf.apply(lambda x: len(x['Text'].split(\" \")),axis=1)\n",
    "    print(\"Min\",min(lengths),\"Max\", max(lengths),\"Avg\",sum(lengths)/lengths.shape[0])\n",
    "    \n",
    "    ##### CLEANING ##### remove short sentences ----\n",
    "    indexes = pdf.apply(lambda x: len(x['Text'].split(\" \"))>=5,axis=1)\n",
    "    pdf = pdf[indexes]\n",
    "    \n",
    "    ### Drop Duplicates\n",
    "    pdf = pdf.drop_duplicates()\n",
    "    print(\"after\",pdf.shape)\n",
    "    \n",
    "    if not agg.empty:\n",
    "        agg = pd.concat([agg,pdf])\n",
    "    else:\n",
    "        agg = pdf\n",
    "    \n",
    "agg = agg.drop_duplicates()"
   ]
  },
  {
   "cell_type": "code",
   "execution_count": null,
   "metadata": {},
   "outputs": [],
   "source": [
    "agg['Date'].value_counts(), agg.shape"
   ]
  },
  {
   "cell_type": "code",
   "execution_count": 60,
   "metadata": {},
   "outputs": [],
   "source": [
    "agg.to_csv(target+\"/aggregated.csv\",index=False)"
   ]
  },
  {
   "cell_type": "code",
   "execution_count": null,
   "metadata": {},
   "outputs": [],
   "source": []
  }
 ],
 "metadata": {
  "kernelspec": {
   "display_name": "Python 3",
   "language": "python",
   "name": "python3"
  },
  "language_info": {
   "codemirror_mode": {
    "name": "ipython",
    "version": 3
   },
   "file_extension": ".py",
   "mimetype": "text/x-python",
   "name": "python",
   "nbconvert_exporter": "python",
   "pygments_lexer": "ipython3",
   "version": "3.10.11"
  },
  "orig_nbformat": 4
 },
 "nbformat": 4,
 "nbformat_minor": 2
}
