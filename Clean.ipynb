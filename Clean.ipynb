{
 "cells": [
  {
   "cell_type": "code",
   "execution_count": null,
   "metadata": {},
   "outputs": [],
   "source": [
    "import pandas as pd"
   ]
  },
  {
   "cell_type": "code",
   "execution_count": null,
   "metadata": {},
   "outputs": [],
   "source": [
    "pdf = pd.read_csv('Nepali-Tweets-100000.csv')\n",
    "pdf"
   ]
  },
  {
   "cell_type": "code",
   "execution_count": null,
   "metadata": {},
   "outputs": [],
   "source": [
    "#### CLEANING ##### remove @usernames and external-urls\n",
    "import re\n",
    "\n",
    "pdf['Text'] = pdf.apply(lambda x: re.sub('@\\w+',' ',x['Text']).strip(),axis=1) # remove @usernames\n",
    "pdf['Text'] = pdf.apply(lambda x: re.sub('\\w+:\\/\\/[\\w.\\/]+',' ',x['Text']).strip(),axis=1)  # remove external urls\n",
    "pdf['Text'] = pdf.apply(lambda x: re.sub('[a-zA-Z]+',' ',x['Text']).strip(),axis=1)  # remove english alphabets\n",
    "pdf['Text'] = pdf.apply(lambda x: re.sub('\\s+',' ',x['Text']).strip(),axis=1) # remove new line feeds and extra spaces\n"
   ]
  },
  {
   "cell_type": "code",
   "execution_count": null,
   "metadata": {},
   "outputs": [],
   "source": [
    "pdf.index = range(pdf.shape[0])\n",
    "pdf"
   ]
  },
  {
   "cell_type": "code",
   "execution_count": null,
   "metadata": {},
   "outputs": [],
   "source": [
    "### Checking for shortest string in the dataframe\n",
    "lengths = pdf.apply(lambda x: len(x['Text'].split(\" \")),axis=1)\n",
    "min(lengths), max(lengths), sum(lengths)/lengths.shape[0]"
   ]
  },
  {
   "cell_type": "code",
   "execution_count": null,
   "metadata": {},
   "outputs": [],
   "source": [
    "##### CLEANING ##### remove short sentences ----\n",
    "indexes = pdf.apply(lambda x: len(x['Text'].split(\" \"))>=4,axis=1)\n",
    "pdf = pdf[indexes]"
   ]
  },
  {
   "cell_type": "code",
   "execution_count": null,
   "metadata": {},
   "outputs": [],
   "source": [
    "pdf = pdf.drop_duplicates()\n",
    "pdf"
   ]
  },
  {
   "cell_type": "code",
   "execution_count": null,
   "metadata": {},
   "outputs": [],
   "source": [
    "pdf.to_csv('Nepali-Tweets-100000-cleaned.csv',index=False)"
   ]
  },
  {
   "cell_type": "code",
   "execution_count": null,
   "metadata": {},
   "outputs": [],
   "source": []
  }
 ],
 "metadata": {
  "kernelspec": {
   "display_name": "Python 3",
   "language": "python",
   "name": "python3"
  },
  "language_info": {
   "codemirror_mode": {
    "name": "ipython",
    "version": 3
   },
   "file_extension": ".py",
   "mimetype": "text/x-python",
   "name": "python",
   "nbconvert_exporter": "python",
   "pygments_lexer": "ipython3",
   "version": "3.10.11"
  },
  "orig_nbformat": 4
 },
 "nbformat": 4,
 "nbformat_minor": 2
}
