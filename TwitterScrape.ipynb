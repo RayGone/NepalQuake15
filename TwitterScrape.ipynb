{
 "cells": [
  {
   "cell_type": "code",
   "execution_count": 37,
   "metadata": {},
   "outputs": [],
   "source": [
    "import snscrape.modules.twitter as sntwitter\n",
    "import pandas as pd\n",
    "\n",
    "\n",
    "#specify the number of tweets you want \n",
    "maxTweets = 10000\n",
    "\n",
    "# Creating list to append tweet data to\n",
    "tweets_list2 = []\n",
    "batch = 500"
   ]
  },
  {
   "cell_type": "code",
   "execution_count": 38,
   "metadata": {},
   "outputs": [
    {
     "name": "stdout",
     "output_type": "stream",
     "text": [
      "saving the batch of batch 0.0\n",
      "saving the batch of batch 1.0\n",
      "saving the batch of batch 2.0\n",
      "saving the batch of batch 3.0\n",
      "saving the batch of batch 4.0\n",
      "saving the batch of batch 5.0\n",
      "saving the batch of batch 6.0\n",
      "saving the batch of batch 7.0\n",
      "saving the batch of batch 8.0\n",
      "saving the batch of batch 9.0\n",
      "saving the batch of batch 10.0\n",
      "saving the batch of batch 11.0\n",
      "saving the batch of batch 12.0\n",
      "saving the batch of batch 13.0\n",
      "saving the batch of batch 14.0\n"
     ]
    },
    {
     "name": "stderr",
     "output_type": "stream",
     "text": [
      "Stopping after 20 empty pages\n"
     ]
    }
   ],
   "source": [
    "# Using TwitterSearchScraper to scrape data and append tweets to list\n",
    "\n",
    "# set lang:ne to retrieve tweets in Nepali\n",
    "#set the date parameter using since and until\n",
    "until = '04-30'\n",
    "file_save_path = \"Collected/Nepali-Tweets-{}.csv\".format(until)\n",
    "\n",
    "for i,tweet in enumerate(sntwitter.TwitterSearchScraper('lang:ne since:2015-04-25 until:2015-{}'.format(until)).get_items()):\n",
    "    if i>maxTweets:\n",
    "        break\n",
    "    \n",
    "    if i%batch == 0:\n",
    "        print(\"saving the batch of batch\",i/batch)\n",
    "        tweets_df2 = pd.DataFrame(tweets_list2, columns=['Date', 'Text'])\n",
    "\n",
    "        tweets_df2['Date'] = pd.to_datetime(tweets_df2['Date']).dt.date\n",
    "        tweets_df2.to_csv(file_save_path,index=False)\n",
    "        \n",
    "    tweets_list2.append([tweet.date, tweet.rawContent])\n",
    "\n",
    "# Creating a dataframe from the tweets list above\n",
    "tweets_df2 = pd.DataFrame(tweets_list2, columns=['Date', 'Text'])\n",
    "\n",
    "tweets_df2['Date'] = pd.to_datetime(tweets_df2['Date']).dt.date\n",
    "#save the tweets to a csv file \n",
    "tweets_df2.to_csv(file_save_path,index=False)"
   ]
  },
  {
   "cell_type": "code",
   "execution_count": 39,
   "metadata": {},
   "outputs": [
    {
     "data": {
      "text/plain": [
       "(7313, 2)"
      ]
     },
     "execution_count": 39,
     "metadata": {},
     "output_type": "execute_result"
    }
   ],
   "source": [
    "tweets_df2.shape"
   ]
  },
  {
   "cell_type": "code",
   "execution_count": 40,
   "metadata": {},
   "outputs": [
    {
     "data": {
      "text/html": [
       "<div>\n",
       "<style scoped>\n",
       "    .dataframe tbody tr th:only-of-type {\n",
       "        vertical-align: middle;\n",
       "    }\n",
       "\n",
       "    .dataframe tbody tr th {\n",
       "        vertical-align: top;\n",
       "    }\n",
       "\n",
       "    .dataframe thead th {\n",
       "        text-align: right;\n",
       "    }\n",
       "</style>\n",
       "<table border=\"1\" class=\"dataframe\">\n",
       "  <thead>\n",
       "    <tr style=\"text-align: right;\">\n",
       "      <th></th>\n",
       "      <th>Date</th>\n",
       "      <th>Text</th>\n",
       "    </tr>\n",
       "  </thead>\n",
       "  <tbody>\n",
       "    <tr>\n",
       "      <th>0</th>\n",
       "      <td>2015-04-29</td>\n",
       "      <td>७० घण्टापछि जब\\nभग्नावशेषभित्रबाट कसैले भन्यो,...</td>\n",
       "    </tr>\n",
       "    <tr>\n",
       "      <th>1</th>\n",
       "      <td>2015-04-29</td>\n",
       "      <td>सबै मा परिबर्तन देख्दै छु बाँस तिम्रो चरित्र म...</td>\n",
       "    </tr>\n",
       "    <tr>\n",
       "      <th>2</th>\n",
       "      <td>2015-04-29</td>\n",
       "      <td>यि खगेन्द्र संग्रौला र युग पाठक जस्ता समाजमा स...</td>\n",
       "    </tr>\n",
       "    <tr>\n",
       "      <th>3</th>\n",
       "      <td>2015-04-29</td>\n",
       "      <td>धरहराको टुप्पाबाट खसेंर बाँच्‍न सफल  बबिता सेढ...</td>\n",
       "    </tr>\n",
       "    <tr>\n",
       "      <th>4</th>\n",
       "      <td>2015-04-29</td>\n",
       "      <td>@Pratapnarayan4 यहाँ अाफु भनेको सबैलाई भनेको ह...</td>\n",
       "    </tr>\n",
       "    <tr>\n",
       "      <th>...</th>\n",
       "      <td>...</td>\n",
       "      <td>...</td>\n",
       "    </tr>\n",
       "    <tr>\n",
       "      <th>7308</th>\n",
       "      <td>2015-04-29</td>\n",
       "      <td>महाभुकम्पले ल्याएको महाबिपत्तिमा पनि कालोबजारी...</td>\n",
       "    </tr>\n",
       "    <tr>\n",
       "      <th>7309</th>\n",
       "      <td>2015-04-29</td>\n",
       "      <td>मुस्ताङमा पच्चीस घर ध्वस्त, एकसय ३९ घरमा क्षति...</td>\n",
       "    </tr>\n",
       "    <tr>\n",
       "      <th>7310</th>\n",
       "      <td>2015-04-29</td>\n",
       "      <td>काठमांडूमा फेरी 4.4 magnitude तीब्रता को  भुईच...</td>\n",
       "    </tr>\n",
       "    <tr>\n",
       "      <th>7311</th>\n",
       "      <td>2015-04-29</td>\n",
       "      <td>एमालेले राहत र उद्वारका लागि देशव्यापी कार्यकर...</td>\n",
       "    </tr>\n",
       "    <tr>\n",
       "      <th>7312</th>\n",
       "      <td>2015-04-29</td>\n",
       "      <td>दोलखा मा फेरी पहाडै खस्यो रे .. उफ़</td>\n",
       "    </tr>\n",
       "  </tbody>\n",
       "</table>\n",
       "<p>7313 rows × 2 columns</p>\n",
       "</div>"
      ],
      "text/plain": [
       "            Date                                               Text\n",
       "0     2015-04-29  ७० घण्टापछि जब\\nभग्नावशेषभित्रबाट कसैले भन्यो,...\n",
       "1     2015-04-29  सबै मा परिबर्तन देख्दै छु बाँस तिम्रो चरित्र म...\n",
       "2     2015-04-29  यि खगेन्द्र संग्रौला र युग पाठक जस्ता समाजमा स...\n",
       "3     2015-04-29  धरहराको टुप्पाबाट खसेंर बाँच्‍न सफल  बबिता सेढ...\n",
       "4     2015-04-29  @Pratapnarayan4 यहाँ अाफु भनेको सबैलाई भनेको ह...\n",
       "...          ...                                                ...\n",
       "7308  2015-04-29  महाभुकम्पले ल्याएको महाबिपत्तिमा पनि कालोबजारी...\n",
       "7309  2015-04-29  मुस्ताङमा पच्चीस घर ध्वस्त, एकसय ३९ घरमा क्षति...\n",
       "7310  2015-04-29  काठमांडूमा फेरी 4.4 magnitude तीब्रता को  भुईच...\n",
       "7311  2015-04-29  एमालेले राहत र उद्वारका लागि देशव्यापी कार्यकर...\n",
       "7312  2015-04-29                 दोलखा मा फेरी पहाडै खस्यो रे .. उफ़\n",
       "\n",
       "[7313 rows x 2 columns]"
      ]
     },
     "execution_count": 40,
     "metadata": {},
     "output_type": "execute_result"
    }
   ],
   "source": [
    "tweets_df2"
   ]
  },
  {
   "cell_type": "code",
   "execution_count": null,
   "metadata": {},
   "outputs": [],
   "source": []
  }
 ],
 "metadata": {
  "kernelspec": {
   "display_name": "TwitterScrape",
   "language": "python",
   "name": "python3"
  },
  "language_info": {
   "codemirror_mode": {
    "name": "ipython",
    "version": 3
   },
   "file_extension": ".py",
   "mimetype": "text/x-python",
   "name": "python",
   "nbconvert_exporter": "python",
   "pygments_lexer": "ipython3",
   "version": "3.10.11"
  },
  "orig_nbformat": 4
 },
 "nbformat": 4,
 "nbformat_minor": 2
}
