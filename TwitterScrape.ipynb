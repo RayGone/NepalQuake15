{
 "cells": [
  {
   "cell_type": "code",
   "execution_count": 33,
   "metadata": {},
   "outputs": [],
   "source": [
    "import snscrape.modules.twitter as sntwitter\n",
    "import pandas as pd\n",
    "\n",
    "\n",
    "#specify the number of tweets you want \n",
    "maxTweets = 10000\n",
    "\n",
    "# Creating list to append tweet data to\n",
    "tweets_list2 = []\n",
    "batch = 500"
   ]
  },
  {
   "cell_type": "code",
   "execution_count": 34,
   "metadata": {},
   "outputs": [
    {
     "name": "stdout",
     "output_type": "stream",
     "text": [
      "saving the batch of batch 0.0\n",
      "saving the batch of batch 1.0\n",
      "saving the batch of batch 2.0\n",
      "saving the batch of batch 3.0\n",
      "saving the batch of batch 4.0\n",
      "saving the batch of batch 5.0\n",
      "saving the batch of batch 6.0\n",
      "saving the batch of batch 7.0\n",
      "saving the batch of batch 8.0\n",
      "saving the batch of batch 9.0\n",
      "saving the batch of batch 10.0\n",
      "saving the batch of batch 11.0\n",
      "saving the batch of batch 12.0\n",
      "saving the batch of batch 13.0\n",
      "saving the batch of batch 14.0\n",
      "saving the batch of batch 15.0\n",
      "saving the batch of batch 16.0\n",
      "saving the batch of batch 17.0\n",
      "saving the batch of batch 18.0\n",
      "saving the batch of batch 19.0\n",
      "saving the batch of batch 20.0\n"
     ]
    }
   ],
   "source": [
    "# Using TwitterSearchScraper to scrape data and append tweets to list\n",
    "\n",
    "# set lang:ne to retrieve tweets in Nepali\n",
    "#set the date parameter using since and until\n",
    "until = '04-30'\n",
    "file_save_path = \"Collected/Nepali-Tweets-{}.csv\".format(until)\n",
    "\n",
    "for i,tweet in enumerate(sntwitter.TwitterSearchScraper('lang:ne since:2015-04-25 until:2015-{}'.format(until)).get_items()):\n",
    "    if i>maxTweets:\n",
    "        break\n",
    "    \n",
    "    if i%batch == 0:\n",
    "        print(\"saving the batch of batch\",i/batch)\n",
    "        tweets_df2 = pd.DataFrame(tweets_list2, columns=['Date', 'Text'])\n",
    "\n",
    "        tweets_df2['Date'] = pd.to_datetime(tweets_df2['Date']).dt.date\n",
    "        tweets_df2.to_csv(file_save_path,index=False)\n",
    "        \n",
    "    tweets_list2.append([tweet.date, tweet.rawContent])\n",
    "\n",
    "# Creating a dataframe from the tweets list above\n",
    "tweets_df2 = pd.DataFrame(tweets_list2, columns=['Date', 'Text'])\n",
    "\n",
    "tweets_df2['Date'] = pd.to_datetime(tweets_df2['Date']).dt.date\n",
    "#save the tweets to a csv file \n",
    "tweets_df2.to_csv(file_save_path,index=False)"
   ]
  },
  {
   "cell_type": "code",
   "execution_count": 35,
   "metadata": {},
   "outputs": [
    {
     "data": {
      "text/plain": [
       "(10001, 2)"
      ]
     },
     "execution_count": 35,
     "metadata": {},
     "output_type": "execute_result"
    }
   ],
   "source": [
    "tweets_df2.shape"
   ]
  },
  {
   "cell_type": "code",
   "execution_count": 36,
   "metadata": {},
   "outputs": [
    {
     "data": {
      "text/html": [
       "<div>\n",
       "<style scoped>\n",
       "    .dataframe tbody tr th:only-of-type {\n",
       "        vertical-align: middle;\n",
       "    }\n",
       "\n",
       "    .dataframe tbody tr th {\n",
       "        vertical-align: top;\n",
       "    }\n",
       "\n",
       "    .dataframe thead th {\n",
       "        text-align: right;\n",
       "    }\n",
       "</style>\n",
       "<table border=\"1\" class=\"dataframe\">\n",
       "  <thead>\n",
       "    <tr style=\"text-align: right;\">\n",
       "      <th></th>\n",
       "      <th>Date</th>\n",
       "      <th>Text</th>\n",
       "    </tr>\n",
       "  </thead>\n",
       "  <tbody>\n",
       "    <tr>\n",
       "      <th>0</th>\n",
       "      <td>2015-04-27</td>\n",
       "      <td>'अहिले नगरे कहिले, हामीले नगरे कस्ले!'copied f...</td>\n",
       "    </tr>\n",
       "    <tr>\n",
       "      <th>1</th>\n",
       "      <td>2015-04-27</td>\n",
       "      <td>१९९० को भूकम्पमा जुद्धशमशेरले यसो भनेका थिए ht...</td>\n",
       "    </tr>\n",
       "    <tr>\n",
       "      <th>2</th>\n",
       "      <td>2015-04-27</td>\n",
       "      <td>@KakaBaa अनि सन्चै सुबिस्तै बड्डा ! कताको शिवि...</td>\n",
       "    </tr>\n",
       "    <tr>\n",
       "      <th>3</th>\n",
       "      <td>2015-04-27</td>\n",
       "      <td>आज गरिने सेवा नै धर्म हो, कर्म हो,\\rउत्तरदायी ...</td>\n",
       "    </tr>\n",
       "    <tr>\n",
       "      <th>4</th>\n",
       "      <td>2015-04-27</td>\n",
       "      <td>जतन बासखर्क,थाङपालधाप टार,किउलबेसी,तिपेनी,दुबा...</td>\n",
       "    </tr>\n",
       "    <tr>\n",
       "      <th>...</th>\n",
       "      <td>...</td>\n",
       "      <td>...</td>\n",
       "    </tr>\n",
       "    <tr>\n",
       "      <th>9996</th>\n",
       "      <td>2015-04-27</td>\n",
       "      <td>उद्धारमा भारतीय टिम सक्रिय http://t.co/SZHQHEO1ls</td>\n",
       "    </tr>\n",
       "    <tr>\n",
       "      <th>9997</th>\n",
       "      <td>2015-04-27</td>\n",
       "      <td>कोहि ब्यापारी हुनुहुन्छ र बजार मूल्य मै सामान ...</td>\n",
       "    </tr>\n",
       "    <tr>\n",
       "      <th>9998</th>\n",
       "      <td>2015-04-27</td>\n",
       "      <td>@GhimirePrashant @ma_jujuman @KakaBaa @Gpgelal...</td>\n",
       "    </tr>\n",
       "    <tr>\n",
       "      <th>9999</th>\n",
       "      <td>2015-04-27</td>\n",
       "      <td>@rswechha दिदी हजुर सपरिबार सकुशल हुनुहुन्छ नि ?</td>\n",
       "    </tr>\n",
       "    <tr>\n",
       "      <th>10000</th>\n",
       "      <td>2015-04-27</td>\n",
       "      <td>सिक नेता हो सिक । \\nढोगेरै मात्रै भक्ती नदेखाओ...</td>\n",
       "    </tr>\n",
       "  </tbody>\n",
       "</table>\n",
       "<p>10001 rows × 2 columns</p>\n",
       "</div>"
      ],
      "text/plain": [
       "             Date                                               Text\n",
       "0      2015-04-27  'अहिले नगरे कहिले, हामीले नगरे कस्ले!'copied f...\n",
       "1      2015-04-27  १९९० को भूकम्पमा जुद्धशमशेरले यसो भनेका थिए ht...\n",
       "2      2015-04-27  @KakaBaa अनि सन्चै सुबिस्तै बड्डा ! कताको शिवि...\n",
       "3      2015-04-27  आज गरिने सेवा नै धर्म हो, कर्म हो,\\rउत्तरदायी ...\n",
       "4      2015-04-27  जतन बासखर्क,थाङपालधाप टार,किउलबेसी,तिपेनी,दुबा...\n",
       "...           ...                                                ...\n",
       "9996   2015-04-27  उद्धारमा भारतीय टिम सक्रिय http://t.co/SZHQHEO1ls\n",
       "9997   2015-04-27  कोहि ब्यापारी हुनुहुन्छ र बजार मूल्य मै सामान ...\n",
       "9998   2015-04-27  @GhimirePrashant @ma_jujuman @KakaBaa @Gpgelal...\n",
       "9999   2015-04-27   @rswechha दिदी हजुर सपरिबार सकुशल हुनुहुन्छ नि ?\n",
       "10000  2015-04-27  सिक नेता हो सिक । \\nढोगेरै मात्रै भक्ती नदेखाओ...\n",
       "\n",
       "[10001 rows x 2 columns]"
      ]
     },
     "execution_count": 36,
     "metadata": {},
     "output_type": "execute_result"
    }
   ],
   "source": [
    "tweets_df2"
   ]
  },
  {
   "cell_type": "code",
   "execution_count": null,
   "metadata": {},
   "outputs": [],
   "source": []
  }
 ],
 "metadata": {
  "kernelspec": {
   "display_name": "TwitterScrape",
   "language": "python",
   "name": "python3"
  },
  "language_info": {
   "codemirror_mode": {
    "name": "ipython",
    "version": 3
   },
   "file_extension": ".py",
   "mimetype": "text/x-python",
   "name": "python",
   "nbconvert_exporter": "python",
   "pygments_lexer": "ipython3",
   "version": "3.10.11"
  },
  "orig_nbformat": 4
 },
 "nbformat": 4,
 "nbformat_minor": 2
}
